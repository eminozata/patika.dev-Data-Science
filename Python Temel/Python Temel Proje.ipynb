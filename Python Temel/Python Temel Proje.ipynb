{
 "cells": [
  {
   "cell_type": "markdown",
   "id": "d9cf2dcd",
   "metadata": {},
   "source": [
    "# Patika"
   ]
  },
  {
   "cell_type": "markdown",
   "id": "dda0fd27",
   "metadata": {},
   "source": [
    "# Soru 1"
   ]
  },
  {
   "cell_type": "code",
   "execution_count": 24,
   "id": "62698da8",
   "metadata": {},
   "outputs": [],
   "source": [
    "data = [[1,'a',['cat'],2],[[[3]],'dog'],4,5]\n",
    "flat_list = []"
   ]
  },
  {
   "cell_type": "code",
   "execution_count": 25,
   "id": "63400480",
   "metadata": {
    "scrolled": true
   },
   "outputs": [],
   "source": [
    "def flatten_list(data):\n",
    "    for element in data:\n",
    "        if type(element) == list:\n",
    "            flatten_list(element)\n",
    "        else:\n",
    "            flat_list.append(element)\n",
    "    return flat_list\n",
    "    "
   ]
  },
  {
   "cell_type": "code",
   "execution_count": 26,
   "id": "fd8d3fe2",
   "metadata": {
    "scrolled": true
   },
   "outputs": [
    {
     "data": {
      "text/plain": [
       "[1, 'a', 'cat', 2, 3, 'dog', 4, 5]"
      ]
     },
     "execution_count": 26,
     "metadata": {},
     "output_type": "execute_result"
    }
   ],
   "source": [
    "flatten_list(data)"
   ]
  },
  {
   "cell_type": "markdown",
   "id": "3f7e0340",
   "metadata": {},
   "source": [
    "# Soru 2"
   ]
  },
  {
   "cell_type": "code",
   "execution_count": 27,
   "id": "f9fea64c",
   "metadata": {},
   "outputs": [],
   "source": [
    "test = [[1, 2], [3, 4], [5, 6, 7]]"
   ]
  },
  {
   "cell_type": "code",
   "execution_count": 28,
   "id": "8e2c948e",
   "metadata": {},
   "outputs": [],
   "source": [
    "output = [x[::-1] for x in test][::-1]\n"
   ]
  },
  {
   "cell_type": "code",
   "execution_count": 29,
   "id": "8f274e29",
   "metadata": {},
   "outputs": [
    {
     "data": {
      "text/plain": [
       "[[7, 6, 5], [4, 3], [2, 1]]"
      ]
     },
     "execution_count": 29,
     "metadata": {},
     "output_type": "execute_result"
    }
   ],
   "source": [
    "output"
   ]
  },
  {
   "cell_type": "code",
   "execution_count": null,
   "id": "52d2dcc6",
   "metadata": {},
   "outputs": [],
   "source": []
  }
 ],
 "metadata": {
  "kernelspec": {
   "display_name": "Python 3 (ipykernel)",
   "language": "python",
   "name": "python3"
  },
  "language_info": {
   "codemirror_mode": {
    "name": "ipython",
    "version": 3
   },
   "file_extension": ".py",
   "mimetype": "text/x-python",
   "name": "python",
   "nbconvert_exporter": "python",
   "pygments_lexer": "ipython3",
   "version": "3.9.6"
  }
 },
 "nbformat": 4,
 "nbformat_minor": 5
}
