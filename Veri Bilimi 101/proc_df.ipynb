{
 "cells": [
  {
   "cell_type": "code",
   "execution_count": 1,
   "id": "1ba0afd7",
   "metadata": {},
   "outputs": [],
   "source": [
    "import pandas as pd\n",
    "import numpy as np"
   ]
  },
  {
   "cell_type": "code",
   "execution_count": 96,
   "id": "86636bad",
   "metadata": {},
   "outputs": [],
   "source": [
    "from sklearn.ensemble import RandomForestRegressor, RandomForestClassifier\n",
    "from IPython.display import display\n",
    "\n",
    "from sklearn import metrics"
   ]
  },
  {
   "cell_type": "code",
   "execution_count": 106,
   "id": "671cef3f",
   "metadata": {},
   "outputs": [],
   "source": [
    "from sklearn import utils as forest"
   ]
  },
  {
   "cell_type": "code",
   "execution_count": 3,
   "id": "3e29eabf",
   "metadata": {},
   "outputs": [],
   "source": [
    "import re\n",
    "\n",
    "from pandas.api.types import is_string_dtype\n",
    "from pandas.api.types import is_numeric_dtype"
   ]
  },
  {
   "cell_type": "code",
   "execution_count": 4,
   "id": "011cd816",
   "metadata": {},
   "outputs": [],
   "source": [
    "df = pd.read_feather(\"tmp/bulldozers_1\")"
   ]
  },
  {
   "cell_type": "code",
   "execution_count": 5,
   "id": "8d421c94",
   "metadata": {},
   "outputs": [
    {
     "data": {
      "text/html": [
       "<div>\n",
       "<style scoped>\n",
       "    .dataframe tbody tr th:only-of-type {\n",
       "        vertical-align: middle;\n",
       "    }\n",
       "\n",
       "    .dataframe tbody tr th {\n",
       "        vertical-align: top;\n",
       "    }\n",
       "\n",
       "    .dataframe thead th {\n",
       "        text-align: right;\n",
       "    }\n",
       "</style>\n",
       "<table border=\"1\" class=\"dataframe\">\n",
       "  <thead>\n",
       "    <tr style=\"text-align: right;\">\n",
       "      <th></th>\n",
       "      <th>SalesID</th>\n",
       "      <th>SalePrice</th>\n",
       "      <th>MachineID</th>\n",
       "      <th>ModelID</th>\n",
       "      <th>datasource</th>\n",
       "      <th>auctioneerID</th>\n",
       "      <th>YearMade</th>\n",
       "      <th>MachineHoursCurrentMeter</th>\n",
       "      <th>UsageBand</th>\n",
       "      <th>fiModelDesc</th>\n",
       "      <th>...</th>\n",
       "      <th>Steering_Controls</th>\n",
       "      <th>DateYear</th>\n",
       "      <th>DateMonth</th>\n",
       "      <th>DateWeek</th>\n",
       "      <th>DateDay</th>\n",
       "      <th>DateDayofweek</th>\n",
       "      <th>DateDayofyear</th>\n",
       "      <th>DateIs_month_end</th>\n",
       "      <th>DateIs_month_start</th>\n",
       "      <th>DateElapsed</th>\n",
       "    </tr>\n",
       "  </thead>\n",
       "  <tbody>\n",
       "    <tr>\n",
       "      <th>0</th>\n",
       "      <td>1139246</td>\n",
       "      <td>11.097410</td>\n",
       "      <td>999089</td>\n",
       "      <td>3157</td>\n",
       "      <td>121</td>\n",
       "      <td>3.0</td>\n",
       "      <td>2004</td>\n",
       "      <td>68.0</td>\n",
       "      <td>3</td>\n",
       "      <td>521D</td>\n",
       "      <td>...</td>\n",
       "      <td>Conventional</td>\n",
       "      <td>2006</td>\n",
       "      <td>11</td>\n",
       "      <td>46</td>\n",
       "      <td>16</td>\n",
       "      <td>3</td>\n",
       "      <td>320</td>\n",
       "      <td>False</td>\n",
       "      <td>False</td>\n",
       "      <td>1163635200</td>\n",
       "    </tr>\n",
       "    <tr>\n",
       "      <th>1</th>\n",
       "      <td>1139248</td>\n",
       "      <td>10.950807</td>\n",
       "      <td>117657</td>\n",
       "      <td>77</td>\n",
       "      <td>121</td>\n",
       "      <td>3.0</td>\n",
       "      <td>1996</td>\n",
       "      <td>4640.0</td>\n",
       "      <td>3</td>\n",
       "      <td>950FII</td>\n",
       "      <td>...</td>\n",
       "      <td>Conventional</td>\n",
       "      <td>2004</td>\n",
       "      <td>3</td>\n",
       "      <td>13</td>\n",
       "      <td>26</td>\n",
       "      <td>4</td>\n",
       "      <td>86</td>\n",
       "      <td>False</td>\n",
       "      <td>False</td>\n",
       "      <td>1080259200</td>\n",
       "    </tr>\n",
       "    <tr>\n",
       "      <th>2</th>\n",
       "      <td>1139249</td>\n",
       "      <td>9.210340</td>\n",
       "      <td>434808</td>\n",
       "      <td>7009</td>\n",
       "      <td>121</td>\n",
       "      <td>3.0</td>\n",
       "      <td>2001</td>\n",
       "      <td>2838.0</td>\n",
       "      <td>1</td>\n",
       "      <td>226</td>\n",
       "      <td>...</td>\n",
       "      <td>NaN</td>\n",
       "      <td>2004</td>\n",
       "      <td>2</td>\n",
       "      <td>9</td>\n",
       "      <td>26</td>\n",
       "      <td>3</td>\n",
       "      <td>57</td>\n",
       "      <td>False</td>\n",
       "      <td>False</td>\n",
       "      <td>1077753600</td>\n",
       "    </tr>\n",
       "    <tr>\n",
       "      <th>3</th>\n",
       "      <td>1139251</td>\n",
       "      <td>10.558414</td>\n",
       "      <td>1026470</td>\n",
       "      <td>332</td>\n",
       "      <td>121</td>\n",
       "      <td>3.0</td>\n",
       "      <td>2001</td>\n",
       "      <td>3486.0</td>\n",
       "      <td>1</td>\n",
       "      <td>PC120-6E</td>\n",
       "      <td>...</td>\n",
       "      <td>NaN</td>\n",
       "      <td>2011</td>\n",
       "      <td>5</td>\n",
       "      <td>20</td>\n",
       "      <td>19</td>\n",
       "      <td>3</td>\n",
       "      <td>139</td>\n",
       "      <td>False</td>\n",
       "      <td>False</td>\n",
       "      <td>1305763200</td>\n",
       "    </tr>\n",
       "    <tr>\n",
       "      <th>4</th>\n",
       "      <td>1139253</td>\n",
       "      <td>9.305651</td>\n",
       "      <td>1057373</td>\n",
       "      <td>17311</td>\n",
       "      <td>121</td>\n",
       "      <td>3.0</td>\n",
       "      <td>2007</td>\n",
       "      <td>722.0</td>\n",
       "      <td>2</td>\n",
       "      <td>S175</td>\n",
       "      <td>...</td>\n",
       "      <td>NaN</td>\n",
       "      <td>2009</td>\n",
       "      <td>7</td>\n",
       "      <td>30</td>\n",
       "      <td>23</td>\n",
       "      <td>3</td>\n",
       "      <td>204</td>\n",
       "      <td>False</td>\n",
       "      <td>False</td>\n",
       "      <td>1248307200</td>\n",
       "    </tr>\n",
       "    <tr>\n",
       "      <th>...</th>\n",
       "      <td>...</td>\n",
       "      <td>...</td>\n",
       "      <td>...</td>\n",
       "      <td>...</td>\n",
       "      <td>...</td>\n",
       "      <td>...</td>\n",
       "      <td>...</td>\n",
       "      <td>...</td>\n",
       "      <td>...</td>\n",
       "      <td>...</td>\n",
       "      <td>...</td>\n",
       "      <td>...</td>\n",
       "      <td>...</td>\n",
       "      <td>...</td>\n",
       "      <td>...</td>\n",
       "      <td>...</td>\n",
       "      <td>...</td>\n",
       "      <td>...</td>\n",
       "      <td>...</td>\n",
       "      <td>...</td>\n",
       "      <td>...</td>\n",
       "    </tr>\n",
       "    <tr>\n",
       "      <th>412693</th>\n",
       "      <td>6333344</td>\n",
       "      <td>9.210340</td>\n",
       "      <td>1919201</td>\n",
       "      <td>21435</td>\n",
       "      <td>149</td>\n",
       "      <td>2.0</td>\n",
       "      <td>2005</td>\n",
       "      <td>NaN</td>\n",
       "      <td>0</td>\n",
       "      <td>30NX</td>\n",
       "      <td>...</td>\n",
       "      <td>NaN</td>\n",
       "      <td>2012</td>\n",
       "      <td>3</td>\n",
       "      <td>10</td>\n",
       "      <td>7</td>\n",
       "      <td>2</td>\n",
       "      <td>67</td>\n",
       "      <td>False</td>\n",
       "      <td>False</td>\n",
       "      <td>1331078400</td>\n",
       "    </tr>\n",
       "    <tr>\n",
       "      <th>412694</th>\n",
       "      <td>6333345</td>\n",
       "      <td>9.259131</td>\n",
       "      <td>1882122</td>\n",
       "      <td>21436</td>\n",
       "      <td>149</td>\n",
       "      <td>2.0</td>\n",
       "      <td>2005</td>\n",
       "      <td>NaN</td>\n",
       "      <td>0</td>\n",
       "      <td>30NX2</td>\n",
       "      <td>...</td>\n",
       "      <td>NaN</td>\n",
       "      <td>2012</td>\n",
       "      <td>1</td>\n",
       "      <td>4</td>\n",
       "      <td>28</td>\n",
       "      <td>5</td>\n",
       "      <td>28</td>\n",
       "      <td>False</td>\n",
       "      <td>False</td>\n",
       "      <td>1327708800</td>\n",
       "    </tr>\n",
       "    <tr>\n",
       "      <th>412695</th>\n",
       "      <td>6333347</td>\n",
       "      <td>9.433484</td>\n",
       "      <td>1944213</td>\n",
       "      <td>21435</td>\n",
       "      <td>149</td>\n",
       "      <td>2.0</td>\n",
       "      <td>2005</td>\n",
       "      <td>NaN</td>\n",
       "      <td>0</td>\n",
       "      <td>30NX</td>\n",
       "      <td>...</td>\n",
       "      <td>NaN</td>\n",
       "      <td>2012</td>\n",
       "      <td>1</td>\n",
       "      <td>4</td>\n",
       "      <td>28</td>\n",
       "      <td>5</td>\n",
       "      <td>28</td>\n",
       "      <td>False</td>\n",
       "      <td>False</td>\n",
       "      <td>1327708800</td>\n",
       "    </tr>\n",
       "    <tr>\n",
       "      <th>412696</th>\n",
       "      <td>6333348</td>\n",
       "      <td>9.210340</td>\n",
       "      <td>1794518</td>\n",
       "      <td>21435</td>\n",
       "      <td>149</td>\n",
       "      <td>2.0</td>\n",
       "      <td>2006</td>\n",
       "      <td>NaN</td>\n",
       "      <td>0</td>\n",
       "      <td>30NX</td>\n",
       "      <td>...</td>\n",
       "      <td>NaN</td>\n",
       "      <td>2012</td>\n",
       "      <td>3</td>\n",
       "      <td>10</td>\n",
       "      <td>7</td>\n",
       "      <td>2</td>\n",
       "      <td>67</td>\n",
       "      <td>False</td>\n",
       "      <td>False</td>\n",
       "      <td>1331078400</td>\n",
       "    </tr>\n",
       "    <tr>\n",
       "      <th>412697</th>\n",
       "      <td>6333349</td>\n",
       "      <td>9.472705</td>\n",
       "      <td>1944743</td>\n",
       "      <td>21436</td>\n",
       "      <td>149</td>\n",
       "      <td>2.0</td>\n",
       "      <td>2006</td>\n",
       "      <td>NaN</td>\n",
       "      <td>0</td>\n",
       "      <td>30NX2</td>\n",
       "      <td>...</td>\n",
       "      <td>NaN</td>\n",
       "      <td>2012</td>\n",
       "      <td>1</td>\n",
       "      <td>4</td>\n",
       "      <td>28</td>\n",
       "      <td>5</td>\n",
       "      <td>28</td>\n",
       "      <td>False</td>\n",
       "      <td>False</td>\n",
       "      <td>1327708800</td>\n",
       "    </tr>\n",
       "  </tbody>\n",
       "</table>\n",
       "<p>412698 rows × 61 columns</p>\n",
       "</div>"
      ],
      "text/plain": [
       "        SalesID  SalePrice  MachineID  ModelID  datasource  auctioneerID  \\\n",
       "0       1139246  11.097410     999089     3157         121           3.0   \n",
       "1       1139248  10.950807     117657       77         121           3.0   \n",
       "2       1139249   9.210340     434808     7009         121           3.0   \n",
       "3       1139251  10.558414    1026470      332         121           3.0   \n",
       "4       1139253   9.305651    1057373    17311         121           3.0   \n",
       "...         ...        ...        ...      ...         ...           ...   \n",
       "412693  6333344   9.210340    1919201    21435         149           2.0   \n",
       "412694  6333345   9.259131    1882122    21436         149           2.0   \n",
       "412695  6333347   9.433484    1944213    21435         149           2.0   \n",
       "412696  6333348   9.210340    1794518    21435         149           2.0   \n",
       "412697  6333349   9.472705    1944743    21436         149           2.0   \n",
       "\n",
       "        YearMade  MachineHoursCurrentMeter  UsageBand fiModelDesc  ...  \\\n",
       "0           2004                      68.0          3        521D  ...   \n",
       "1           1996                    4640.0          3      950FII  ...   \n",
       "2           2001                    2838.0          1         226  ...   \n",
       "3           2001                    3486.0          1    PC120-6E  ...   \n",
       "4           2007                     722.0          2        S175  ...   \n",
       "...          ...                       ...        ...         ...  ...   \n",
       "412693      2005                       NaN          0        30NX  ...   \n",
       "412694      2005                       NaN          0       30NX2  ...   \n",
       "412695      2005                       NaN          0        30NX  ...   \n",
       "412696      2006                       NaN          0        30NX  ...   \n",
       "412697      2006                       NaN          0       30NX2  ...   \n",
       "\n",
       "       Steering_Controls DateYear DateMonth DateWeek DateDay DateDayofweek  \\\n",
       "0           Conventional     2006        11       46      16             3   \n",
       "1           Conventional     2004         3       13      26             4   \n",
       "2                    NaN     2004         2        9      26             3   \n",
       "3                    NaN     2011         5       20      19             3   \n",
       "4                    NaN     2009         7       30      23             3   \n",
       "...                  ...      ...       ...      ...     ...           ...   \n",
       "412693               NaN     2012         3       10       7             2   \n",
       "412694               NaN     2012         1        4      28             5   \n",
       "412695               NaN     2012         1        4      28             5   \n",
       "412696               NaN     2012         3       10       7             2   \n",
       "412697               NaN     2012         1        4      28             5   \n",
       "\n",
       "       DateDayofyear DateIs_month_end DateIs_month_start DateElapsed  \n",
       "0                320            False              False  1163635200  \n",
       "1                 86            False              False  1080259200  \n",
       "2                 57            False              False  1077753600  \n",
       "3                139            False              False  1305763200  \n",
       "4                204            False              False  1248307200  \n",
       "...              ...              ...                ...         ...  \n",
       "412693            67            False              False  1331078400  \n",
       "412694            28            False              False  1327708800  \n",
       "412695            28            False              False  1327708800  \n",
       "412696            67            False              False  1331078400  \n",
       "412697            28            False              False  1327708800  \n",
       "\n",
       "[412698 rows x 61 columns]"
      ]
     },
     "execution_count": 5,
     "metadata": {},
     "output_type": "execute_result"
    }
   ],
   "source": [
    "df"
   ]
  },
  {
   "cell_type": "code",
   "execution_count": 6,
   "id": "22f0a399",
   "metadata": {},
   "outputs": [],
   "source": [
    "def fix_missing(df,col,name,nan_dict,is_train):\n",
    "    \n",
    "    if is_train:\n",
    "         if is_numeric_dtype(col):\n",
    "            if pd.isnull(col).sum:\n",
    "                df[name + \"_na\"] = pd.isnull(col)\n",
    "                nan_dict[name]= col.median()\n",
    "                df[name] = col.fillna(nan_dict[name])\n",
    "                \n",
    "    else:\n",
    "        if is_numeric_dtype(col):\n",
    "            if name in nan_dict:\n",
    "                df[name + \"_na\"] = pd.isnull(col)\n",
    "                df[name] = col.fillna(nan_dict[name])\n",
    "            \n",
    "            else:\n",
    "                df[name]=col.fillna(df[name].median())\n",
    "                "
   ]
  },
  {
   "cell_type": "code",
   "execution_count": 7,
   "id": "2cc8eeaf",
   "metadata": {},
   "outputs": [],
   "source": [
    "def numericalize (df,col,name):\n",
    "    if not pd.api.types.is_numeric_dtype(col):\n",
    "        df[name] = col.cat.codes + 1"
   ]
  },
  {
   "cell_type": "code",
   "execution_count": 8,
   "id": "f8a9626b",
   "metadata": {},
   "outputs": [],
   "source": [
    "def proc(df,y_fld,nan_dict= None, is_train= True):\n",
    "    \n",
    "    df = df.copy()\n",
    "    y = df[y_fld].values\n",
    "    \n",
    "    df.drop([y_fld],axis=1, inplace=True)\n",
    "    \n",
    "    \n",
    "    if nan_dict is None:\n",
    "        nan_dict = {}\n",
    "        \n",
    "    for n,c in df.items():\n",
    "        fix_missing(df,c,n,nan_dict,is_train)\n",
    "        numericalize(df,c,n)\n",
    "        \n",
    "    if is_train:\n",
    "        return df, y,nan_dict\n",
    "        \n",
    "    return df,y"
   ]
  },
  {
   "cell_type": "code",
   "execution_count": 9,
   "id": "21c2dceb",
   "metadata": {},
   "outputs": [],
   "source": [
    "def split_train_val(df,n):\n",
    "    return df[:n].copy(), df[n:].copy()\n"
   ]
  },
  {
   "cell_type": "code",
   "execution_count": 10,
   "id": "06ad524a",
   "metadata": {},
   "outputs": [],
   "source": [
    "n_valid = 12000 # kaggle test set büyüklüğü\n",
    "n_train = len(df) - n_valid\n",
    "raw_train, raw_valid = split_train_val(df,n_train)"
   ]
  },
  {
   "cell_type": "code",
   "execution_count": 11,
   "id": "4a5f8f3e",
   "metadata": {},
   "outputs": [],
   "source": [
    "x_train, y_train, nas = proc(raw_train, 'SalePrice')"
   ]
  },
  {
   "cell_type": "code",
   "execution_count": 12,
   "id": "cf89bcba",
   "metadata": {},
   "outputs": [],
   "source": [
    "x_valid, y_valid = proc(raw_valid,\"SalePrice\", nas, is_train=False )"
   ]
  },
  {
   "cell_type": "markdown",
   "id": "29c6c3cb",
   "metadata": {},
   "source": [
    "# İlk Model"
   ]
  },
  {
   "cell_type": "code",
   "execution_count": 14,
   "id": "1007af4c",
   "metadata": {
    "scrolled": true
   },
   "outputs": [
    {
     "data": {
      "text/plain": [
       "1.0"
      ]
     },
     "execution_count": 14,
     "metadata": {},
     "output_type": "execute_result"
    }
   ],
   "source": [
    "m = RandomForestRegressor(n_estimators=1, bootstrap = False, n_jobs = -1)\n",
    "m.fit(x_train,y_train)\n",
    "m.score(x_train,y_train)"
   ]
  },
  {
   "cell_type": "code",
   "execution_count": 19,
   "id": "4b7b939c",
   "metadata": {},
   "outputs": [],
   "source": [
    "import math"
   ]
  },
  {
   "cell_type": "markdown",
   "id": "e7266508",
   "metadata": {},
   "source": [
    "def rmse(x,y):\n",
    "    return math.sqrt(((x-y)**2).mean())"
   ]
  },
  {
   "cell_type": "code",
   "execution_count": 25,
   "id": "4ee40ace",
   "metadata": {},
   "outputs": [],
   "source": [
    "def print_score(m):\n",
    "    print(f\"RMSE Score of train set {rmse(m.predict(x_train),y_train)}\")\n",
    "    print(f\"RMSE Score of validation set {rmse(m.predict(x_valid),y_valid)}\")\n",
    "    print(f\"R^2 Score of train set {m.score(x_train,y_train)}\")\n",
    "    print(f\"R^2 Score of validation set {m.score(x_valid,y_valid)}\")"
   ]
  },
  {
   "cell_type": "code",
   "execution_count": 26,
   "id": "ed2dc3c2",
   "metadata": {},
   "outputs": [
    {
     "name": "stdout",
     "output_type": "stream",
     "text": [
      "RMSE Score of train set 1.0424642451347363e-16\n",
      "RMSE Score of validation set 0.3648072650717891\n",
      "R^2 Score of train set 1.0\n",
      "R^2 Score of validation set 0.756037966082763\n"
     ]
    }
   ],
   "source": [
    "print_score(m)"
   ]
  },
  {
   "cell_type": "markdown",
   "id": "6eaaaef6",
   "metadata": {},
   "source": [
    "# Subsample"
   ]
  },
  {
   "cell_type": "code",
   "execution_count": 28,
   "id": "68a7a5a1",
   "metadata": {},
   "outputs": [
    {
     "name": "stdout",
     "output_type": "stream",
     "text": [
      "CPU times: user 58.6 s, sys: 586 ms, total: 59.2 s\n",
      "Wall time: 12.6 s\n",
      "RMSE Score of train set 0.09044644234442918\n",
      "RMSE Score of validation set 0.2675273661068178\n",
      "R^2 Score of train set 0.9829900590940973\n",
      "R^2 Score of validation set 0.8688006402349607\n"
     ]
    }
   ],
   "source": [
    "m = RandomForestRegressor(n_estimators=10, n_jobs = -1)\n",
    "%time m.fit(x_train,y_train)\n",
    "print_score(m)"
   ]
  },
  {
   "cell_type": "code",
   "execution_count": 29,
   "id": "2e6c9ebe",
   "metadata": {},
   "outputs": [
    {
     "name": "stdout",
     "output_type": "stream",
     "text": [
      "CPU times: user 3min, sys: 1.5 s, total: 3min 2s\n",
      "Wall time: 27.7 s\n",
      "RMSE Score of train set 0.07956968995867437\n",
      "RMSE Score of validation set 0.25084666630245345\n",
      "R^2 Score of train set 0.9868351729242192\n",
      "R^2 Score of validation set 0.8846514988598666\n"
     ]
    }
   ],
   "source": [
    "m = RandomForestRegressor(n_estimators=30, n_jobs = -1)\n",
    "%time m.fit(x_train,y_train)\n",
    "print_score(m)"
   ]
  },
  {
   "cell_type": "markdown",
   "id": "dc95ad7c",
   "metadata": {},
   "source": [
    "# Subsample Yaratma"
   ]
  },
  {
   "cell_type": "code",
   "execution_count": 33,
   "id": "9ad3ae0f",
   "metadata": {},
   "outputs": [],
   "source": [
    "def get_sample(df,n):\n",
    "    idxs = np.random.permutation(len(df))[:n]\n",
    "    return idxs, df.iloc[idxs].copy()"
   ]
  },
  {
   "cell_type": "code",
   "execution_count": 34,
   "id": "8ce2a040",
   "metadata": {},
   "outputs": [],
   "source": [
    "idxs, x_train = get_sample(x_train,3000)"
   ]
  },
  {
   "cell_type": "code",
   "execution_count": 37,
   "id": "e1c71d6a",
   "metadata": {},
   "outputs": [],
   "source": [
    "y_train = y_train[idxs]"
   ]
  },
  {
   "cell_type": "code",
   "execution_count": 39,
   "id": "1ff9581d",
   "metadata": {},
   "outputs": [
    {
     "name": "stdout",
     "output_type": "stream",
     "text": [
      "CPU times: user 354 ms, sys: 10.1 ms, total: 364 ms\n",
      "Wall time: 88.1 ms\n",
      "RMSE Score of train set 0.14108941012370088\n",
      "RMSE Score of validation set 0.37756639061406494\n",
      "R^2 Score of train set 0.9570672818470456\n",
      "R^2 Score of validation set 0.7386744069402327\n"
     ]
    }
   ],
   "source": [
    "m = RandomForestRegressor(n_estimators=10, n_jobs = -1)\n",
    "%time m.fit(x_train,y_train)\n",
    "print_score(m)"
   ]
  },
  {
   "cell_type": "code",
   "execution_count": 40,
   "id": "a6aba1bf",
   "metadata": {},
   "outputs": [
    {
     "name": "stdout",
     "output_type": "stream",
     "text": [
      "CPU times: user 1.05 s, sys: 22.9 ms, total: 1.07 s\n",
      "Wall time: 212 ms\n",
      "RMSE Score of train set 0.1259579377118333\n",
      "RMSE Score of validation set 0.3575097492544348\n",
      "R^2 Score of train set 0.9657823143148119\n",
      "R^2 Score of validation set 0.7657006590053841\n"
     ]
    }
   ],
   "source": [
    "m = RandomForestRegressor(n_estimators=30, n_jobs = -1)\n",
    "%time m.fit(x_train,y_train)\n",
    "print_score(m)"
   ]
  },
  {
   "cell_type": "markdown",
   "id": "e15ac5ee",
   "metadata": {},
   "source": [
    "# Subsampling 2"
   ]
  },
  {
   "cell_type": "code",
   "execution_count": 107,
   "id": "b683d4e9",
   "metadata": {},
   "outputs": [],
   "source": [
    "def set_rf_sampling(n):\n",
    "    forest._generate_sample_indices = (lambda rs, n_samples:\n",
    "                                        forest.check_random_state(rs).randint(0,n_samples,n))"
   ]
  },
  {
   "cell_type": "code",
   "execution_count": 90,
   "id": "94b5237e",
   "metadata": {},
   "outputs": [],
   "source": [
    "def reset_rf_sampling(n):\n",
    "    forest._generate_sample_indices = (lambda rs, n_samples:\n",
    "                                        forest.check_random_state(rs).randint(0,n_samples,n_samples))"
   ]
  },
  {
   "cell_type": "code",
   "execution_count": 110,
   "id": "9c1592ee",
   "metadata": {},
   "outputs": [],
   "source": [
    "set_rf_sampling(3000)"
   ]
  },
  {
   "cell_type": "code",
   "execution_count": 111,
   "id": "92bd4a84",
   "metadata": {},
   "outputs": [
    {
     "name": "stdout",
     "output_type": "stream",
     "text": [
      "CPU times: user 411 ms, sys: 9.97 ms, total: 421 ms\n",
      "Wall time: 111 ms\n",
      "RMSE Score of train set 0.1452123877493973\n",
      "RMSE Score of validation set 0.37656797522024366\n",
      "R^2 Score of train set 0.9545214213455125\n",
      "R^2 Score of validation set 0.7400546490990882\n"
     ]
    }
   ],
   "source": [
    "m = RandomForestRegressor(n_estimators=10, n_jobs = -1)\n",
    "%time m.fit(x_train,y_train)\n",
    "print_score(m)"
   ]
  },
  {
   "cell_type": "code",
   "execution_count": 113,
   "id": "ff24049a",
   "metadata": {},
   "outputs": [
    {
     "name": "stdout",
     "output_type": "stream",
     "text": [
      "CPU times: user 896 ms, sys: 40.9 ms, total: 937 ms\n",
      "Wall time: 250 ms\n",
      "RMSE Score of train set 0.2177483234466407\n",
      "RMSE Score of validation set 0.3590654526673838\n",
      "R^2 Score of train set 0.8977391991471538\n",
      "R^2 Score of validation set 0.7636571155967935\n"
     ]
    }
   ],
   "source": [
    "m = RandomForestRegressor(n_estimators=70, n_jobs = -1, min_samples_leaf = 5, max_features = 0.5,oob_score=True)\n",
    "%time m.fit(x_train,y_train)\n",
    "print_score(m)"
   ]
  },
  {
   "cell_type": "code",
   "execution_count": null,
   "id": "033f3086",
   "metadata": {},
   "outputs": [],
   "source": []
  }
 ],
 "metadata": {
  "kernelspec": {
   "display_name": "Python 3 (ipykernel)",
   "language": "python",
   "name": "python3"
  },
  "language_info": {
   "codemirror_mode": {
    "name": "ipython",
    "version": 3
   },
   "file_extension": ".py",
   "mimetype": "text/x-python",
   "name": "python",
   "nbconvert_exporter": "python",
   "pygments_lexer": "ipython3",
   "version": "3.9.6"
  }
 },
 "nbformat": 4,
 "nbformat_minor": 5
}
